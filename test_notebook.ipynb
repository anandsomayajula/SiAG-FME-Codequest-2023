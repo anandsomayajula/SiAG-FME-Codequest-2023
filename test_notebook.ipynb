{
 "cells": [
  {
   "cell_type": "code",
   "execution_count": 1,
   "id": "8721ac33-8435-40fe-b249-12c7a82d407c",
   "metadata": {
    "colab": {
     "base_uri": "https://localhost:8080/",
     "height": 385
    },
    "executionInfo": {
     "elapsed": 50,
     "status": "error",
     "timestamp": 1704871323433,
     "user": {
      "displayName": "anand somayajula",
      "userId": "06849824266720048894"
     },
     "user_tz": 480
    },
    "id": "8721ac33-8435-40fe-b249-12c7a82d407c",
    "outputId": "29690f89-172e-4efe-f7f8-9d19da4f5ee2"
   },
   "outputs": [
    {
     "name": "stderr",
     "output_type": "stream",
     "text": [
      "C:\\Users\\anand\\anaconda3\\lib\\site-packages\\scipy\\__init__.py:146: UserWarning: A NumPy version >=1.16.5 and <1.23.0 is required for this version of SciPy (detected version 1.23.5\n",
      "  warnings.warn(f\"A NumPy version >={np_minversion} and <{np_maxversion}\"\n"
     ]
    }
   ],
   "source": [
    "from amm import amm\n",
    "import numpy as np\n",
    "\n",
    "import matplotlib.pyplot as plt\n",
    "#plt.style.use('paper.mplstyle')\n",
    "\n",
    "import seaborn as sns\n",
    "sns.set_theme(style=\"ticks\")\n",
    "\n",
    "import statsmodels.api as sm\n",
    "import matplotlib.ticker as mtick"
   ]
  },
  {
   "cell_type": "markdown",
   "id": "980fba8a-713b-4ec0-a9a3-6a612469309c",
   "metadata": {
    "id": "980fba8a-713b-4ec0-a9a3-6a612469309c"
   },
   "source": [
    "# Pool configuration"
   ]
  },
  {
   "cell_type": "code",
   "execution_count": 2,
   "id": "fbf4464c-0b90-49a2-a513-c70eb28ff0f4",
   "metadata": {
    "executionInfo": {
     "elapsed": 39,
     "status": "aborted",
     "timestamp": 1704871323435,
     "user": {
      "displayName": "anand somayajula",
      "userId": "06849824266720048894"
     },
     "user_tz": 480
    },
    "id": "fbf4464c-0b90-49a2-a513-c70eb28ff0f4"
   },
   "outputs": [],
   "source": [
    "''' Initial reserves '''\n",
    "Rx0   = np.array([100,   100,   100], float)\n",
    "Ry0   = np.array([1000,  1000,  1000], float)\n",
    "\n",
    "''' Fee rate '''\n",
    "phi   = np.array([0.003, 0.003, 0.003], float)\n",
    "\n",
    "pools = amm(Rx=Rx0, Ry=Ry0, phi=phi)"
   ]
  },
  {
   "cell_type": "code",
   "execution_count": 3,
   "id": "4fd22cdd-6588-4066-b583-6fbea10b2501",
   "metadata": {
    "id": "4fd22cdd-6588-4066-b583-6fbea10b2501",
    "outputId": "86d39681-3136-4280-9cde-f360af5ace18"
   },
   "outputs": [
    {
     "name": "stdout",
     "output_type": "stream",
     "text": [
      "Available liquidity coins: [316.228 316.228 316.228]\n"
     ]
    }
   ],
   "source": [
    "print('Available liquidity coins:', np.round(pools.L, 3))"
   ]
  },
  {
   "cell_type": "markdown",
   "id": "ecfa9a5a",
   "metadata": {},
   "source": [
    "# Swapping"
   ]
  },
  {
   "cell_type": "code",
   "execution_count": 4,
   "id": "6e2c1335-3a4c-4a73-aef7-20dd969d245c",
   "metadata": {
    "id": "6e2c1335-3a4c-4a73-aef7-20dd969d245c",
    "outputId": "abd99a57-8e35-4bb1-8e74-f8f424efee89",
    "scrolled": true
   },
   "outputs": [
    {
     "name": "stdout",
     "output_type": "stream",
     "text": [
      "Obtained Y coins : [9.87 4.96 1.  ]\n",
      "Reserves in X    : [101.  100.5 100.1]\n",
      "Reserves in Y    : [990.13 995.04 999.  ]\n"
     ]
    }
   ],
   "source": [
    "''' Swapping 1   coin-X in pool 1,\n",
    "             0.5 coin-X in pool 2,\n",
    "             0.1 coin-X in pool 3 '''\n",
    "y = pools.swap_x_to_y([1, 0.5, 0.1], quote=False)\n",
    "\n",
    "print('Obtained Y coins :', np.round(y,2))\n",
    "print('Reserves in X    :', pools.Rx)\n",
    "print('Reserves in Y    :', np.round(pools.Ry,2))"
   ]
  },
  {
   "cell_type": "markdown",
   "id": "201ae9fd-8c97-4a0e-a8af-a6298b499220",
   "metadata": {
    "id": "201ae9fd-8c97-4a0e-a8af-a6298b499220"
   },
   "source": [
    "# Minting and burning"
   ]
  },
  {
   "cell_type": "code",
   "execution_count": 5,
   "id": "775c6647-cb30-4722-8be2-c4800925d589",
   "metadata": {
    "id": "775c6647-cb30-4722-8be2-c4800925d589",
    "outputId": "6876b5c4-fed5-4a10-c1e5-6f0117f9a90a"
   },
   "outputs": [
    {
     "ename": "AssertionError",
     "evalue": "pool 0 has incorrect submission of tokens",
     "output_type": "error",
     "traceback": [
      "\u001b[1;31m---------------------------------------------------------------------------\u001b[0m",
      "\u001b[1;31mAssertionError\u001b[0m                            Traceback (most recent call last)",
      "\u001b[1;32m~\\AppData\\Local\\Temp/ipykernel_42028/516473608.py\u001b[0m in \u001b[0;36m<module>\u001b[1;34m\u001b[0m\n\u001b[0;32m      3\u001b[0m \u001b[0mx\u001b[0m \u001b[1;33m=\u001b[0m \u001b[1;33m[\u001b[0m\u001b[1;36m1\u001b[0m\u001b[1;33m,\u001b[0m \u001b[1;36m1\u001b[0m\u001b[1;33m,\u001b[0m \u001b[1;36m1\u001b[0m\u001b[1;33m]\u001b[0m\u001b[1;33m\u001b[0m\u001b[1;33m\u001b[0m\u001b[0m\n\u001b[0;32m      4\u001b[0m \u001b[1;33m\u001b[0m\u001b[0m\n\u001b[1;32m----> 5\u001b[1;33m \u001b[0ml\u001b[0m \u001b[1;33m=\u001b[0m \u001b[0mpools\u001b[0m\u001b[1;33m.\u001b[0m\u001b[0mmint\u001b[0m\u001b[1;33m(\u001b[0m\u001b[0mx\u001b[0m \u001b[1;33m=\u001b[0m \u001b[0mx\u001b[0m\u001b[1;33m,\u001b[0m \u001b[0my\u001b[0m \u001b[1;33m=\u001b[0m \u001b[0mnp\u001b[0m\u001b[1;33m.\u001b[0m\u001b[0mrandom\u001b[0m\u001b[1;33m.\u001b[0m\u001b[0mrand\u001b[0m\u001b[1;33m(\u001b[0m\u001b[1;36m3\u001b[0m\u001b[1;33m)\u001b[0m\u001b[1;33m)\u001b[0m\u001b[1;33m\u001b[0m\u001b[1;33m\u001b[0m\u001b[0m\n\u001b[0m",
      "\u001b[1;32m~\\SIAG FME Code Quest 2023\\code\\amm.py\u001b[0m in \u001b[0;36mmint\u001b[1;34m(self, x, y)\u001b[0m\n\u001b[0;32m    127\u001b[0m \u001b[1;33m\u001b[0m\u001b[0m\n\u001b[0;32m    128\u001b[0m         \u001b[1;32mfor\u001b[0m \u001b[0mk\u001b[0m \u001b[1;32min\u001b[0m \u001b[0mrange\u001b[0m\u001b[1;33m(\u001b[0m\u001b[0mlen\u001b[0m\u001b[1;33m(\u001b[0m\u001b[0mself\u001b[0m\u001b[1;33m.\u001b[0m\u001b[0mRx\u001b[0m\u001b[1;33m)\u001b[0m\u001b[1;33m)\u001b[0m\u001b[1;33m:\u001b[0m\u001b[1;33m\u001b[0m\u001b[1;33m\u001b[0m\u001b[0m\n\u001b[1;32m--> 129\u001b[1;33m             \u001b[1;32massert\u001b[0m \u001b[0mnp\u001b[0m\u001b[1;33m.\u001b[0m\u001b[0mabs\u001b[0m\u001b[1;33m(\u001b[0m\u001b[1;33m(\u001b[0m\u001b[1;33m(\u001b[0m\u001b[0mx\u001b[0m\u001b[1;33m[\u001b[0m\u001b[0mk\u001b[0m\u001b[1;33m]\u001b[0m\u001b[1;33m/\u001b[0m\u001b[0my\u001b[0m\u001b[1;33m[\u001b[0m\u001b[0mk\u001b[0m\u001b[1;33m]\u001b[0m\u001b[1;33m)\u001b[0m\u001b[1;33m-\u001b[0m\u001b[0mself\u001b[0m\u001b[1;33m.\u001b[0m\u001b[0mRx\u001b[0m\u001b[1;33m[\u001b[0m\u001b[0mk\u001b[0m\u001b[1;33m]\u001b[0m\u001b[1;33m/\u001b[0m\u001b[0mself\u001b[0m\u001b[1;33m.\u001b[0m\u001b[0mRy\u001b[0m\u001b[1;33m[\u001b[0m\u001b[0mk\u001b[0m\u001b[1;33m]\u001b[0m\u001b[1;33m)\u001b[0m\u001b[1;33m)\u001b[0m \u001b[1;33m<\u001b[0m \u001b[1;36m1e-9\u001b[0m\u001b[1;33m,\u001b[0m \u001b[1;34m\"pool \"\u001b[0m \u001b[1;33m+\u001b[0m \u001b[0mstr\u001b[0m\u001b[1;33m(\u001b[0m\u001b[0mk\u001b[0m\u001b[1;33m)\u001b[0m \u001b[1;33m+\u001b[0m \u001b[1;34m\" has incorrect submission of tokens\"\u001b[0m\u001b[1;33m\u001b[0m\u001b[1;33m\u001b[0m\u001b[0m\n\u001b[0m\u001b[0;32m    130\u001b[0m \u001b[1;33m\u001b[0m\u001b[0m\n\u001b[0;32m    131\u001b[0m         \u001b[1;31m# ********************\u001b[0m\u001b[1;33m\u001b[0m\u001b[1;33m\u001b[0m\u001b[0m\n",
      "\u001b[1;31mAssertionError\u001b[0m: pool 0 has incorrect submission of tokens"
     ]
    }
   ],
   "source": [
    "''' Minting with incorrect amount '''\n",
    "\n",
    "x = [1, 1, 1]\n",
    "\n",
    "l = pools.mint(x = x, y = np.random.rand(3))"
   ]
  },
  {
   "cell_type": "code",
   "execution_count": 6,
   "id": "6c5b9e1e-1a1c-4716-bbee-2fd7257f3843",
   "metadata": {
    "id": "6c5b9e1e-1a1c-4716-bbee-2fd7257f3843",
    "outputId": "7a819580-222a-4261-e04f-5f3a13e12a41"
   },
   "outputs": [
    {
     "name": "stdout",
     "output_type": "stream",
     "text": [
      "Trader liquidity coins : [3.13 3.15 3.16]\n",
      "Pool liquidity coins   : [319.36 319.37 319.39]\n"
     ]
    }
   ],
   "source": [
    "''' Minting with correct amount '''\n",
    "\n",
    "y = x * pools.Ry / pools.Rx\n",
    "\n",
    "l = pools.mint(x = x, y = y)\n",
    "\n",
    "print('Trader liquidity coins :', np.round(pools.l, 2))\n",
    "print('Pool liquidity coins   :', np.round(pools.L, 2))"
   ]
  },
  {
   "cell_type": "code",
   "execution_count": 7,
   "id": "567e7c6c-6b6f-4315-8670-1daa33c1f76d",
   "metadata": {
    "id": "567e7c6c-6b6f-4315-8670-1daa33c1f76d",
    "outputId": "06587127-e41d-4e42-cc62-74d34be23f64"
   },
   "outputs": [
    {
     "ename": "AssertionError",
     "evalue": "you have insufficient LP tokens",
     "output_type": "error",
     "traceback": [
      "\u001b[1;31m---------------------------------------------------------------------------\u001b[0m",
      "\u001b[1;31mAssertionError\u001b[0m                            Traceback (most recent call last)",
      "\u001b[1;32m~\\AppData\\Local\\Temp/ipykernel_42028/3145653003.py\u001b[0m in \u001b[0;36m<module>\u001b[1;34m\u001b[0m\n\u001b[0;32m      1\u001b[0m \u001b[1;34m''' Burning incorrect amount of LP coins '''\u001b[0m\u001b[1;33m\u001b[0m\u001b[1;33m\u001b[0m\u001b[0m\n\u001b[0;32m      2\u001b[0m \u001b[1;33m\u001b[0m\u001b[0m\n\u001b[1;32m----> 3\u001b[1;33m \u001b[0mx\u001b[0m\u001b[1;33m,\u001b[0m \u001b[0my\u001b[0m \u001b[1;33m=\u001b[0m \u001b[0mpools\u001b[0m\u001b[1;33m.\u001b[0m\u001b[0mburn\u001b[0m\u001b[1;33m(\u001b[0m\u001b[0ml\u001b[0m\u001b[1;33m+\u001b[0m\u001b[1;36m1\u001b[0m\u001b[1;33m)\u001b[0m\u001b[1;33m\u001b[0m\u001b[1;33m\u001b[0m\u001b[0m\n\u001b[0m",
      "\u001b[1;32m~\\SIAG FME Code Quest 2023\\code\\amm.py\u001b[0m in \u001b[0;36mburn\u001b[1;34m(self, l)\u001b[0m\n\u001b[0;32m    239\u001b[0m \u001b[1;33m\u001b[0m\u001b[0m\n\u001b[0;32m    240\u001b[0m         \u001b[1;32mfor\u001b[0m \u001b[0mk\u001b[0m \u001b[1;32min\u001b[0m \u001b[0mrange\u001b[0m\u001b[1;33m(\u001b[0m\u001b[0mlen\u001b[0m\u001b[1;33m(\u001b[0m\u001b[0mself\u001b[0m\u001b[1;33m.\u001b[0m\u001b[0mL\u001b[0m\u001b[1;33m)\u001b[0m\u001b[1;33m)\u001b[0m\u001b[1;33m:\u001b[0m\u001b[1;33m\u001b[0m\u001b[1;33m\u001b[0m\u001b[0m\n\u001b[1;32m--> 241\u001b[1;33m             \u001b[1;32massert\u001b[0m \u001b[0ml\u001b[0m\u001b[1;33m[\u001b[0m\u001b[0mk\u001b[0m\u001b[1;33m]\u001b[0m \u001b[1;33m<=\u001b[0m \u001b[0mself\u001b[0m\u001b[1;33m.\u001b[0m\u001b[0ml\u001b[0m\u001b[1;33m[\u001b[0m\u001b[0mk\u001b[0m\u001b[1;33m]\u001b[0m\u001b[1;33m,\u001b[0m \u001b[1;34m\"you have insufficient LP tokens\"\u001b[0m\u001b[1;33m\u001b[0m\u001b[1;33m\u001b[0m\u001b[0m\n\u001b[0m\u001b[0;32m    242\u001b[0m \u001b[1;33m\u001b[0m\u001b[0m\n\u001b[0;32m    243\u001b[0m         \u001b[1;31m# ********************\u001b[0m\u001b[1;33m\u001b[0m\u001b[1;33m\u001b[0m\u001b[0m\n",
      "\u001b[1;31mAssertionError\u001b[0m: you have insufficient LP tokens"
     ]
    }
   ],
   "source": [
    "''' Burning incorrect amount of LP coins '''\n",
    "\n",
    "x, y = pools.burn(l+1)"
   ]
  },
  {
   "cell_type": "code",
   "execution_count": 8,
   "id": "9bc443ee-b4a4-4b1e-b044-0efce1a20f74",
   "metadata": {
    "id": "9bc443ee-b4a4-4b1e-b044-0efce1a20f74"
   },
   "outputs": [],
   "source": [
    "''' Burning correct amount of LP coints '''\n",
    "x, y = pools.burn(l)"
   ]
  },
  {
   "cell_type": "code",
   "execution_count": 9,
   "id": "bbb19aeb-8bf9-49bc-ae17-d0db1a70b09e",
   "metadata": {
    "id": "bbb19aeb-8bf9-49bc-ae17-d0db1a70b09e",
    "outputId": "150c13f8-43b7-4402-9fcf-e4a29b5d7198"
   },
   "outputs": [
    {
     "name": "stdout",
     "output_type": "stream",
     "text": [
      "Trader LP coins        : [0. 0. 0.]\n",
      "Trader X coins         : [1. 1. 1.]\n",
      "Trader Y coins         : [9.8  9.9  9.98]\n",
      "Pool LP coins          : [316.23 316.23 316.23]\n"
     ]
    }
   ],
   "source": [
    "print('Trader LP coins        :', np.round(pools.l, 2))\n",
    "print('Trader X coins         :', np.round(x, 2))\n",
    "print('Trader Y coins         :', np.round(y, 2))\n",
    "print('Pool LP coins          :', np.round(pools.L, 2))"
   ]
  },
  {
   "cell_type": "markdown",
   "id": "44542e6e-0d4a-4c11-9ec3-b32e52d6b260",
   "metadata": {
    "id": "44542e6e-0d4a-4c11-9ec3-b32e52d6b260"
   },
   "source": [
    "# Swapping then minting/burning"
   ]
  },
  {
   "cell_type": "code",
   "execution_count": 10,
   "id": "41e72213-3a44-4489-a435-29b9e15ffefb",
   "metadata": {
    "id": "41e72213-3a44-4489-a435-29b9e15ffefb",
    "tags": []
   },
   "outputs": [],
   "source": [
    "''' Swapping 10 coin-X in each pool and minting '''\n",
    "l = pools.swap_and_mint([10, 10, 10])"
   ]
  },
  {
   "cell_type": "code",
   "execution_count": 11,
   "id": "67406e8c-b66e-4c96-8221-c911e06a637d",
   "metadata": {
    "id": "67406e8c-b66e-4c96-8221-c911e06a637d",
    "outputId": "58c8c4d1-309a-4599-b354-9958ce9e43c2"
   },
   "outputs": [
    {
     "name": "stdout",
     "output_type": "stream",
     "text": [
      "Minted LP coins       : [15.26 15.34 15.4 ]\n",
      "Total trader LP coins : [15.26 15.34 15.4 ]\n",
      "Available LP coins    : [331.49 331.56 331.62]\n"
     ]
    }
   ],
   "source": [
    "print('Minted LP coins       :', np.round(l, 2))\n",
    "print('Total trader LP coins :', np.round(pools.l, 2))\n",
    "print('Available LP coins    :', np.round(pools.L, 2))"
   ]
  },
  {
   "cell_type": "markdown",
   "id": "e03fa2ef-e266-4e7b-b15c-bd99ef9ef279",
   "metadata": {
    "id": "e03fa2ef-e266-4e7b-b15c-bd99ef9ef279"
   },
   "source": [
    "# Burning then swapping"
   ]
  },
  {
   "cell_type": "code",
   "execution_count": 12,
   "id": "f0f72e33-06b7-497a-acf0-7ac4c885071d",
   "metadata": {
    "id": "f0f72e33-06b7-497a-acf0-7ac4c885071d",
    "tags": []
   },
   "outputs": [],
   "source": [
    "''' Burning and swapping the l LP coins '''\n",
    "total_x = pools.burn_and_swap(l)"
   ]
  },
  {
   "cell_type": "code",
   "execution_count": 13,
   "id": "fd9de7d3-763d-4049-b8fa-cfc9237c9417",
   "metadata": {
    "id": "fd9de7d3-763d-4049-b8fa-cfc9237c9417",
    "outputId": "61c0fe1d-d324-445d-f915-c9580bb4a841"
   },
   "outputs": [
    {
     "name": "stdout",
     "output_type": "stream",
     "text": [
      "Number of X coins received   : 28.796\n",
      "Total trader LP coins        : [0. 0. 0.]\n",
      "Available LP coins           : [316.23 316.23 316.23]\n"
     ]
    }
   ],
   "source": [
    "print('Number of X coins received   :', np.round(total_x, 3))\n",
    "print('Total trader LP coins        :', np.round(pools.l, 2))\n",
    "print('Available LP coins           :', np.round(pools.L, 2))"
   ]
  },
  {
   "cell_type": "markdown",
   "id": "9dfe92f6-6231-4aa8-b953-133f87b9489d",
   "metadata": {
    "id": "9dfe92f6-6231-4aa8-b953-133f87b9489d"
   },
   "source": [
    "# Simulation example"
   ]
  },
  {
   "cell_type": "code",
   "execution_count": 14,
   "id": "4adc5279-d530-49d7-ac46-59804ec8a4b7",
   "metadata": {
    "id": "4adc5279-d530-49d7-ac46-59804ec8a4b7",
    "outputId": "36e46f10-5ecc-4014-817d-30c47b5fecdb"
   },
   "outputs": [
    {
     "name": "stderr",
     "output_type": "stream",
     "text": [
      "100%|██████████████████████████████████████████████████████████████████████████████| 1000/1000 [00:22<00:00, 44.09it/s]"
     ]
    },
    {
     "name": "stdout",
     "output_type": "stream",
     "text": [
      "Reserves in asset X for scenario 0: [ 96.49101693 118.36668868 121.08317029]\n",
      "Reserves in asset Y for scenario 0: [1142.26798192  931.52147691  912.31146597]\n"
     ]
    },
    {
     "name": "stderr",
     "output_type": "stream",
     "text": [
      "\n"
     ]
    }
   ],
   "source": [
    "\"\"\" Fix the seed \"\"\"\n",
    "np.random.seed(999983)\n",
    "\n",
    "\"\"\" Initialise the pools \"\"\"\n",
    "Rx0   = np.array([100,   100,   100], float)\n",
    "Ry0   = np.array([1000,  1000,  1000], float)\n",
    "phi   = np.array([0.003, 0.003, 0.003], float)\n",
    "\n",
    "pools = amm(Rx=Rx0, Ry=Ry0, phi=phi)\n",
    "\n",
    "\"\"\" Swap and mint \"\"\"\n",
    "xs_0 = [10,10,10]\n",
    "l    = pools.swap_and_mint(xs_0)\n",
    "\n",
    "\"\"\" Simulate 1000 paths of trading in the pools \"\"\"\n",
    "batch_size = 1_000\n",
    "T          = 60\n",
    "kappa      = np.array([0.6,  0.5,  1,     2])\n",
    "p          = np.array([0.85, 0.3,  0.2,   0.3])\n",
    "sigma      = np.array([0.05, 0.01, 0.025, 0.05])\n",
    "\n",
    "end_pools, Rx_t, Ry_t, v_t, event_type_t, event_direction_t =\\\n",
    "        pools.simulate( kappa = kappa, p = p, sigma = sigma, T = T, batch_size = batch_size)\n",
    "\n",
    "print('Reserves in asset X for scenario 0:', end_pools[0].Rx)\n",
    "print('Reserves in asset Y for scenario 0:', end_pools[0].Ry)"
   ]
  },
  {
   "cell_type": "code",
   "execution_count": 23,
   "id": "aec4b972-8781-4bb4-821f-8618978a3983",
   "metadata": {
    "id": "aec4b972-8781-4bb4-821f-8618978a3983",
    "tags": []
   },
   "outputs": [],
   "source": [
    "\"\"\" Burn and swap all coins into x \"\"\"\n",
    "x_T = np.zeros(batch_size)\n",
    "for k in range(batch_size):\n",
    "    x_T[k] = np.sum(end_pools[k].burn_and_swap(l))"
   ]
  },
  {
   "cell_type": "code",
   "execution_count": 24,
   "id": "a5c2a20d-547d-4cda-a31a-b86dcb38d95a",
   "metadata": {
    "id": "a5c2a20d-547d-4cda-a31a-b86dcb38d95a",
    "outputId": "513c7a01-f9b6-4e5d-e7dc-bc25409925ba"
   },
   "outputs": [
    {
     "name": "stdout",
     "output_type": "stream",
     "text": [
      "Average performance     : 0.26291169793409774\n",
      "Std. Dev. of performance: 1.1603901611374445\n"
     ]
    }
   ],
   "source": [
    "x_0      = np.sum(xs_0)\n",
    "log_ret  = np.log(x_T) - np.log(x_0) # performance / log return\n",
    "\n",
    "print('Average performance     :', np.mean(log_ret)/T*100)\n",
    "print('Std. Dev. of performance:', np.std(log_ret)/np.sqrt(T)*100)"
   ]
  },
  {
   "cell_type": "markdown",
   "id": "376e077b-8bf8-4713-9008-99d201c92cab",
   "metadata": {
    "id": "376e077b-8bf8-4713-9008-99d201c92cab"
   },
   "source": [
    "# Plot the performance distribution"
   ]
  },
  {
   "cell_type": "code",
   "execution_count": 25,
   "id": "f097a3fb-a434-4626-a043-1daeb9d21e0b",
   "metadata": {
    "id": "f097a3fb-a434-4626-a043-1daeb9d21e0b",
    "outputId": "805316a0-2bc9-49d6-f8ff-02d37be44fb0"
   },
   "outputs": [
    {
     "data": {
      "image/png": "[encoded data removed]",
      "text/plain": [
       "<Figure size 360x288 with 1 Axes>"
      ]
     },
     "metadata": {},
     "output_type": "display_data"
    }
   ],
   "source": [
    "fig, ax = plt.subplots(1, 1, sharex=True, figsize=(5,4), sharey=True)\n",
    "\n",
    "x_0      = np.sum(xs_0)\n",
    "log_ret  = np.log(x_T) - np.log(x_0)\n",
    "\n",
    "# histogram plot\n",
    "sns.histplot(ax=ax, x=100*log_ret, kde=True)\n",
    "ax.set_xlabel(r'$Return$')\n",
    "\n",
    "# compute cvar\n",
    "alpha = 0.95 # 95%\n",
    "qtl   = -np.quantile(log_ret, 1-alpha)\n",
    "cvar  = np.mean(-log_ret[-log_ret>=qtl])\n",
    "\n",
    "zeta  = 0.05 # 5%\n",
    "ax.axvline(zeta*100, linestyle='--', color='lime', label=r\"$\\zeta = 5\\%$\")\n",
    "ax.axvline(-cvar*100, linestyle='--', color='red', label=r'$- CVaR_\\alpha\\approx$'+f'$-{round(100*cvar, 2)}\\%$')\n",
    "\n",
    "ax.xaxis.set_major_formatter(mtick.PercentFormatter())\n",
    "\n",
    "plt.legend(handlelength=0.8, framealpha=0.4, loc='upper left')\n",
    "plt.tight_layout()\n",
    "plt.savefig('cvar.pdf')\n",
    "plt.show()"
   ]
  },
  {
   "cell_type": "markdown",
   "id": "8a8dc580-f3f1-404e-bcc9-1e9a5e2b0491",
   "metadata": {
    "id": "8a8dc580-f3f1-404e-bcc9-1e9a5e2b0491"
   },
   "source": [
    "# Other plots"
   ]
  },
  {
   "cell_type": "markdown",
   "id": "3dfa7ee6-2a4d-43cb-a8e2-c5ef97dfbef2",
   "metadata": {
    "id": "3dfa7ee6-2a4d-43cb-a8e2-c5ef97dfbef2"
   },
   "source": [
    "#### Visualize price reserve simulation paths"
   ]
  },
  {
   "cell_type": "code",
   "execution_count": 26,
   "id": "a4b135d4-6b07-4aab-9729-ca5b82350ed8",
   "metadata": {
    "id": "a4b135d4-6b07-4aab-9729-ca5b82350ed8",
    "outputId": "5604d580-e496-4bed-ae4c-74073b8b177e",
    "tags": []
   },
   "outputs": [
    {
     "data": {
      "image/png": "[encoded data removed]",
      "text/plain": [
       "<Figure size 576x288 with 4 Axes>"
      ]
     },
     "metadata": {},
     "output_type": "display_data"
    }
   ],
   "source": [
    "fig, ax = plt.subplots(nrows=1, ncols=3, sharex=True, figsize=(8,4))\n",
    "\n",
    "j = 4\n",
    "\n",
    "# reserves of coin-X\n",
    "ax[0].plot(np.array(Rx_t[j]))\n",
    "ax[0].set_ylabel(r'$R^X_t$', fontsize=16)\n",
    "\n",
    "# reserves of coin-Y\n",
    "ax[1].plot(np.array(Ry_t[j]))\n",
    "ax[1].set_ylabel(r'$R^Y_t$', fontsize=16)\n",
    "\n",
    "# marginal price\n",
    "ax[2].plot(np.array(Rx_t[j])/np.array(Ry_t[j]))\n",
    "ax[2].set_ylabel(r'$R^X_t/R^Y_t$', fontsize=16)\n",
    "\n",
    "fig.add_subplot(111, frameon=False)\n",
    "plt.tick_params(labelcolor='none', which='both', top=False, bottom=False, left=False, right=False)\n",
    "plt.xlabel(r'$t$ (event)', fontsize=16)\n",
    "\n",
    "plt.tight_layout(pad=1.1)\n",
    "plt.show()"
   ]
  },
  {
   "cell_type": "markdown",
   "id": "91b0b82b-90be-49b0-91a0-95dc8209487f",
   "metadata": {
    "id": "91b0b82b-90be-49b0-91a0-95dc8209487f"
   },
   "source": [
    "#### Histogram of terminal marginal prices"
   ]
  },
  {
   "cell_type": "code",
   "execution_count": 27,
   "id": "c21504b3-20dc-4c0d-ac2a-b9ac638a52b1",
   "metadata": {
    "id": "c21504b3-20dc-4c0d-ac2a-b9ac638a52b1",
    "outputId": "3a99f589-d5f3-457d-e4d5-627ee992da8d",
    "tags": []
   },
   "outputs": [
    {
     "data": {
      "image/png": "[encoded data removed]",
      "text/plain": [
       "<Figure size 576x216 with 3 Axes>"
      ]
     },
     "metadata": {},
     "output_type": "display_data"
    }
   ],
   "source": [
    "#%% plot histogram of terminal marginal price\n",
    "Rx_T = np.zeros((batch_size,len(pools.Rx)))\n",
    "Ry_T = np.zeros((batch_size,len(pools.Rx)))\n",
    "\n",
    "for k in range(batch_size):\n",
    "    Rx_T[k,:] = Rx_t[k][-1]\n",
    "    Ry_T[k,:] = Ry_t[k][-1]\n",
    "\n",
    "# initial marginal price\n",
    "P_0 = pools.Rx / pools.Ry\n",
    "\n",
    "# terminal marginal price\n",
    "P_T = Rx_T / Ry_T\n",
    "\n",
    "fig, ax = plt.subplots(nrows=1, ncols=len(Rx0), sharex=True, figsize=(8,3), sharey=True)\n",
    "\n",
    "for k in range(len(Rx0)):\n",
    "    log_ret  = np.log(P_T[:,k]/P_0[k]) # log return of the marginal price\n",
    "    mean_ret = np.mean(log_ret)/T*100\n",
    "    std_ret  = np.std(log_ret)/np.sqrt(T)*100\n",
    "\n",
    "    # histogram plot\n",
    "    sns.histplot(ax=ax[k], x=P_T[:,k], kde=True)\n",
    "    ax[k].axvline(np.mean(P_T[:,k]), linestyle='--', color='k')\n",
    "    ax[k].set_title('$r={:.2f}'.format(mean_ret) +', vol={:.2f}'.format(std_ret) + '$', fontsize=12)\n",
    "    ax[k].set_xlabel(r'$P_T$')\n",
    "\n",
    "plt.tight_layout()\n",
    "plt.show()"
   ]
  },
  {
   "cell_type": "code",
   "execution_count": 19,
   "id": "9c4fca86-67f0-45e6-94bc-09f33b702ddb",
   "metadata": {
    "id": "9c4fca86-67f0-45e6-94bc-09f33b702ddb"
   },
   "outputs": [
    {
     "name": "stdout",
     "output_type": "stream",
     "text": [
      "{'N_pools': 6, 'Rx0': array([100., 100., 100., 100., 100., 100.]), 'Ry0': array([1000., 1000., 1000., 1000., 1000., 1000.]), 'phi': array([0.03, 0.03, 0.03, 0.03, 0.03, 0.03]), 'x_0': 10, 'alpha': 0.9, 'q': 0.8, 'zeta': 0.05, 'batch_size': 1000, 'kappa': [0.25, 0.5, 0.5, 0.45, 0.45, 0.4, 0.3], 'sigma': [1, 0.3, 0.5, 1, 1.25, 2, 4], 'p': [0.45, 0.45, 0.4, 0.38, 0.36, 0.34, 0.3], 'T': 60, 'seed': 4294967143}\n"
     ]
    }
   ],
   "source": [
    "from params import params\n",
    "print(params)"
   ]
  },
  {
   "cell_type": "code",
   "execution_count": 20,
   "id": "95931830",
   "metadata": {},
   "outputs": [
    {
     "name": "stderr",
     "output_type": "stream",
     "text": [
      "100%|██████████████████████████████████████████████████████████████████████████████| 1000/1000 [00:21<00:00, 46.66it/s]"
     ]
    },
    {
     "name": "stdout",
     "output_type": "stream",
     "text": [
      "Reserves in asset X for scenario 0: [121.22060443 112.5915165  115.96636317 101.97251201 110.06854994\n",
      " 109.36947584]\n",
      "Reserves in asset Y for scenario 0: [ 843.32375259  925.37974657  882.28523743 1002.90305822  944.47088447\n",
      "  924.28612313]\n"
     ]
    },
    {
     "name": "stderr",
     "output_type": "stream",
     "text": [
      "\n"
     ]
    }
   ],
   "source": [
    "\"\"\" Fix the seed \"\"\"\n",
    "np.random.seed(params['seed'])\n",
    "\n",
    "\"\"\" Initialise the pools \"\"\"\n",
    "Rx0   = params['Rx0']\n",
    "Ry0   = params['Ry0']\n",
    "phi   = params['phi']\n",
    "\n",
    "\n",
    "pools = amm(Rx=Rx0, Ry=Ry0, phi=phi)\n",
    "\n",
    "\"\"\" Swap and mint \"\"\"\n",
    "xs_0 = [0.86841492, 2.8326753,  1.33355295, 1.07333723, 3.28885378, 0.60316582]\n",
    "l    = pools.swap_and_mint(xs_0)\n",
    "\n",
    "\"\"\" Simulate 1000 paths of trading in the pools \"\"\"\n",
    "batch_size = params['batch_size']\n",
    "T          = params['T']\n",
    "kappa      = params['kappa']\n",
    "p          = params['p']\n",
    "sigma      = params['sigma']\n",
    "\n",
    "end_pools, Rx_t, Ry_t, v_t, event_type_t, event_direction_t =\\\n",
    "        pools.simulate( kappa = kappa, p = p, sigma = sigma, T = T, batch_size = batch_size)\n",
    "\n",
    "print('Reserves in asset X for scenario 0:', end_pools[0].Rx)\n",
    "print('Reserves in asset Y for scenario 0:', end_pools[0].Ry)"
   ]
  },
  {
   "cell_type": "code",
   "execution_count": 21,
   "id": "5a7faa3e",
   "metadata": {},
   "outputs": [],
   "source": [
    "x_T = np.zeros(batch_size)\n",
    "for k in range(batch_size):\n",
    "    x_T[k] = np.sum(end_pools[k].burn_and_swap(l))"
   ]
  },
  {
   "cell_type": "code",
   "execution_count": 22,
   "id": "2a649ac5",
   "metadata": {},
   "outputs": [
    {
     "name": "stdout",
     "output_type": "stream",
     "text": [
      "Average performance     : 0.26962748225915606\n",
      "Std. Dev. of performance: 2.328731628395198\n"
     ]
    }
   ],
   "source": [
    "x_0      = np.sum(xs_0)\n",
    "log_ret  = np.log(x_T) - np.log(x_0) # performance / log return\n",
    "\n",
    "print('Average performance     :', np.mean(log_ret)/T*100)\n",
    "print('Std. Dev. of performance:', np.std(log_ret)/np.sqrt(T)*100)"
   ]
  },
  {
   "cell_type": "code",
   "execution_count": 23,
   "id": "8bf71800",
   "metadata": {},
   "outputs": [
    {
     "data": {
      "image/png": "[encoded data removed]",
      "text/plain": [
       "<Figure size 360x288 with 1 Axes>"
      ]
     },
     "metadata": {},
     "output_type": "display_data"
    }
   ],
   "source": [
    "fig, ax = plt.subplots(1, 1, sharex=True, figsize=(5,4), sharey=True)\n",
    "\n",
    "x_0      = np.sum(xs_0)\n",
    "log_ret  = np.log(x_T) - np.log(x_0)\n",
    "\n",
    "# histogram plot\n",
    "sns.histplot(ax=ax, x=100*log_ret, kde=True)\n",
    "ax.set_xlabel(r'$Return$')\n",
    "\n",
    "# compute cvar\n",
    "alpha = params['alpha'] \n",
    "qtl   = -np.quantile(log_ret, 1-alpha)\n",
    "cvar  = np.mean(-log_ret[-log_ret>=qtl])\n",
    "\n",
    "zeta  = params['zeta'] \n",
    "ax.axvline(zeta*100, linestyle='--', color='lime', label=r\"$\\zeta = 5\\%$\")\n",
    "ax.axvline(-cvar*100, linestyle='--', color='red', label=r'$- CVaR_\\alpha\\approx$'+f'$-{round(100*cvar, 2)}\\%$')\n",
    "\n",
    "ax.xaxis.set_major_formatter(mtick.PercentFormatter())\n",
    "\n",
    "plt.legend(handlelength=0.8, framealpha=0.4, loc='upper left')\n",
    "plt.tight_layout()\n",
    "plt.savefig('cvar.pdf')\n",
    "plt.show()"
   ]
  },
  {
   "cell_type": "code",
   "execution_count": 24,
   "id": "a364733e",
   "metadata": {},
   "outputs": [
    {
     "data": {
      "image/png": "[encoded data removed]",
      "text/plain": [
       "<Figure size 576x288 with 4 Axes>"
      ]
     },
     "metadata": {},
     "output_type": "display_data"
    }
   ],
   "source": [
    "fig, ax = plt.subplots(nrows=1, ncols=3, sharex=True, figsize=(8,4))\n",
    "\n",
    "j = 4\n",
    "\n",
    "# reserves of coin-X\n",
    "ax[0].plot(np.array(Rx_t[j]))\n",
    "ax[0].set_ylabel(r'$R^X_t$', fontsize=16)\n",
    "\n",
    "# reserves of coin-Y\n",
    "ax[1].plot(np.array(Ry_t[j]))\n",
    "ax[1].set_ylabel(r'$R^Y_t$', fontsize=16)\n",
    "\n",
    "# marginal price\n",
    "ax[2].plot(np.array(Rx_t[j])/np.array(Ry_t[j]))\n",
    "ax[2].set_ylabel(r'$R^X_t/R^Y_t$', fontsize=16)\n",
    "\n",
    "fig.add_subplot(111, frameon=False)\n",
    "plt.tick_params(labelcolor='none', which='both', top=False, bottom=False, left=False, right=False)\n",
    "plt.xlabel(r'$t$ (event)', fontsize=16)\n",
    "\n",
    "plt.tight_layout(pad=1.1)\n",
    "plt.show()"
   ]
  },
  {
   "cell_type": "code",
   "execution_count": 33,
   "id": "9861109a",
   "metadata": {},
   "outputs": [
    {
     "data": {
      "image/png": "[encoded data removed]",
      "text/plain": [
       "<Figure size 576x216 with 6 Axes>"
      ]
     },
     "metadata": {},
     "output_type": "display_data"
    }
   ],
   "source": [
    "#%% plot histogram of terminal marginal price\n",
    "Rx_T = np.zeros((batch_size,len(pools.Rx)))\n",
    "Ry_T = np.zeros((batch_size,len(pools.Rx)))\n",
    "\n",
    "for k in range(batch_size):\n",
    "    Rx_T[k,:] = Rx_t[k][-1]\n",
    "    Ry_T[k,:] = Ry_t[k][-1]\n",
    "\n",
    "# initial marginal price\n",
    "P_0 = pools.Rx / pools.Ry\n",
    "\n",
    "# terminal marginal price\n",
    "P_T = Rx_T / Ry_T\n",
    "\n",
    "fig, ax = plt.subplots(nrows=1, ncols=len(Rx0), sharex=True, figsize=(8,3), sharey=True)\n",
    "\n",
    "for k in range(len(Rx0)):\n",
    "    log_ret  = np.log(P_T[:,k]/P_0[k]) # log return of the marginal price\n",
    "    mean_ret = np.mean(log_ret)/T*100\n",
    "    std_ret  = np.std(log_ret)/np.sqrt(T)*100\n",
    "\n",
    "    # histogram plot\n",
    "    sns.histplot(ax=ax[k], x=P_T[:,k], kde=True)\n",
    "    ax[k].axvline(np.mean(P_T[:,k]), linestyle='--', color='k')\n",
    "    ax[k].set_title('$r={:.2f}'.format(mean_ret) +', vol={:.2f}'.format(std_ret) + '$', fontsize=12)\n",
    "    ax[k].set_xlabel(r'$P_T$')\n",
    "\n",
    "plt.tight_layout()\n",
    "plt.show()"
   ]
  },
  {
   "cell_type": "code",
   "execution_count": 1,
   "id": "c27f8c1f",
   "metadata": {},
   "outputs": [
    {
     "name": "stderr",
     "output_type": "stream",
     "text": [
      "C:\\Users\\anand\\anaconda3\\lib\\site-packages\\scipy\\__init__.py:146: UserWarning: A NumPy version >=1.16.5 and <1.23.0 is required for this version of SciPy (detected version 1.23.5\n",
      "  warnings.warn(f\"A NumPy version >={np_minversion} and <{np_maxversion}\"\n"
     ]
    },
    {
     "name": "stdout",
     "output_type": "stream",
     "text": [
      "[10, 0, 0, 0, 0, 0]\n"
     ]
    },
    {
     "name": "stderr",
     "output_type": "stream",
     "text": [
      "100%|██████████████████████████████████████████████████████████████████████████████| 1000/1000 [00:20<00:00, 48.91it/s]\n"
     ]
    },
    {
     "name": "stdout",
     "output_type": "stream",
     "text": [
      "Reserves in asset X for scenario 0: [130.34554166 109.76461238 114.63538066 100.91077959 106.78427749\n",
      " 108.76744316]\n",
      "Reserves in asset Y for scenario 0: [ 854.42895509  923.3878352   880.89618413 1002.82665314  942.72380736\n",
      "  923.86456731]\n",
      "Average performance     : 0.23142577849021334\n",
      "Std. Dev. of performance: 2.3257560107044926\n",
      "0.0217441092466774\n"
     ]
    },
    {
     "name": "stderr",
     "output_type": "stream",
     "text": [
      "100%|██████████████████████████████████████████████████████████████████████████████| 1000/1000 [00:23<00:00, 43.33it/s]\n"
     ]
    },
    {
     "name": "stdout",
     "output_type": "stream",
     "text": [
      "Reserves in asset X for scenario 0: [130.34354321 109.76261584 114.63338305 100.90879956 106.78227973\n",
      " 108.7654436 ]\n",
      "Reserves in asset Y for scenario 0: [ 854.42669541  923.38639085  880.89407471 1002.82650722  942.72271119\n",
      "  923.86315935]\n",
      "Average performance     : 0.2314238316909175\n",
      "Std. Dev. of performance: 2.3259969069098654\n",
      "0.02174616536127008\n",
      "[9.54015685 0.09196863 0.09196863 0.09196863 0.09196863 0.09196863]\n"
     ]
    },
    {
     "name": "stderr",
     "output_type": "stream",
     "text": [
      "100%|██████████████████████████████████████████████████████████████████████████████| 1000/1000 [00:21<00:00, 47.53it/s]\n"
     ]
    },
    {
     "name": "stdout",
     "output_type": "stream",
     "text": [
      "Reserves in asset X for scenario 0: [129.88605603 109.85642225 114.72723971 101.00183076 106.87614287\n",
      " 108.85939136]\n",
      "Reserves in asset Y for scenario 0: [ 853.90755442  923.45419392  880.9931036  1002.83334944  942.77416879\n",
      "  923.92925485]\n",
      "Average performance     : 0.23555335306307432\n",
      "Std. Dev. of performance: 2.327364847145383\n",
      "0.01987891371679142\n"
     ]
    },
    {
     "name": "stderr",
     "output_type": "stream",
     "text": [
      "100%|██████████████████████████████████████████████████████████████████████████████| 1000/1000 [00:20<00:00, 48.30it/s]\n"
     ]
    },
    {
     "name": "stdout",
     "output_type": "stream",
     "text": [
      "Reserves in asset X for scenario 0: [129.88405759 109.8544257  114.72524209 100.9998507  106.87414512\n",
      " 108.8573918 ]\n",
      "Reserves in asset Y for scenario 0: [ 853.90527853  923.45275207  880.99099761 1002.83320411  942.77307454\n",
      "  923.92784929]\n",
      "Average performance     : 0.23555925493869037\n",
      "Std. Dev. of performance: 2.3275351025307054\n",
      "0.019877902917455153\n",
      "[9.99994592e+00 1.08165254e-05 1.08165254e-05 1.08165254e-05\n",
      " 1.08165254e-05 1.08165254e-05]\n"
     ]
    },
    {
     "name": "stderr",
     "output_type": "stream",
     "text": [
      "  0%|▏                                                                                | 3/1000 [00:00<00:27, 36.39it/s]\n"
     ]
    },
    {
     "ename": "KeyboardInterrupt",
     "evalue": "",
     "output_type": "error",
     "traceback": [
      "\u001b[1;31m---------------------------------------------------------------------------\u001b[0m",
      "\u001b[1;31mKeyboardInterrupt\u001b[0m                         Traceback (most recent call last)",
      "\u001b[1;32m~\\AppData\\Local\\Temp/ipykernel_41020/4129894412.py\u001b[0m in \u001b[0;36m<module>\u001b[1;34m\u001b[0m\n\u001b[0;32m    102\u001b[0m \u001b[0mxs_0\u001b[0m \u001b[1;33m=\u001b[0m \u001b[1;33m[\u001b[0m\u001b[1;36m10\u001b[0m\u001b[1;33m,\u001b[0m\u001b[1;36m0\u001b[0m\u001b[1;33m,\u001b[0m\u001b[1;36m0\u001b[0m\u001b[1;33m,\u001b[0m\u001b[1;36m0\u001b[0m\u001b[1;33m,\u001b[0m\u001b[1;36m0\u001b[0m\u001b[1;33m,\u001b[0m\u001b[1;36m0\u001b[0m\u001b[1;33m]\u001b[0m\u001b[1;33m\u001b[0m\u001b[1;33m\u001b[0m\u001b[0m\n\u001b[0;32m    103\u001b[0m \u001b[1;33m\u001b[0m\u001b[0m\n\u001b[1;32m--> 104\u001b[1;33m \u001b[0mbest_x\u001b[0m \u001b[1;33m=\u001b[0m \u001b[0mgradient_descent\u001b[0m\u001b[1;33m(\u001b[0m\u001b[0mxs_0\u001b[0m\u001b[1;33m)\u001b[0m\u001b[1;33m\u001b[0m\u001b[1;33m\u001b[0m\u001b[0m\n\u001b[0m\u001b[0;32m    105\u001b[0m \u001b[1;33m\u001b[0m\u001b[0m\n\u001b[0;32m    106\u001b[0m \u001b[0mprint\u001b[0m\u001b[1;33m(\u001b[0m\u001b[0mbest_x\u001b[0m\u001b[1;33m,\u001b[0m \u001b[0mcvar\u001b[0m\u001b[1;33m(\u001b[0m\u001b[0mbest_x\u001b[0m\u001b[1;33m)\u001b[0m\u001b[1;33m)\u001b[0m\u001b[1;33m\u001b[0m\u001b[1;33m\u001b[0m\u001b[0m\n",
      "\u001b[1;32m~\\AppData\\Local\\Temp/ipykernel_41020/4129894412.py\u001b[0m in \u001b[0;36mgradient_descent\u001b[1;34m(xs_0)\u001b[0m\n\u001b[0;32m     83\u001b[0m \u001b[1;33m\u001b[0m\u001b[0m\n\u001b[0;32m     84\u001b[0m         \u001b[0mprint\u001b[0m\u001b[1;33m(\u001b[0m\u001b[0mxs_0\u001b[0m\u001b[1;33m)\u001b[0m\u001b[1;33m\u001b[0m\u001b[1;33m\u001b[0m\u001b[0m\n\u001b[1;32m---> 85\u001b[1;33m         \u001b[0mgradients\u001b[0m \u001b[1;33m=\u001b[0m \u001b[0mderivatives\u001b[0m\u001b[1;33m(\u001b[0m\u001b[0mxs_0\u001b[0m\u001b[1;33m)\u001b[0m\u001b[1;33m\u001b[0m\u001b[1;33m\u001b[0m\u001b[0m\n\u001b[0m\u001b[0;32m     86\u001b[0m         \u001b[0mxs_0\u001b[0m \u001b[1;33m=\u001b[0m \u001b[0mxs_0\u001b[0m\u001b[1;33m-\u001b[0m\u001b[0mlearning_rate\u001b[0m\u001b[1;33m*\u001b[0m\u001b[0mgradients\u001b[0m\u001b[1;33m\u001b[0m\u001b[1;33m\u001b[0m\u001b[0m\n\u001b[0;32m     87\u001b[0m         \u001b[1;32mfor\u001b[0m \u001b[0mj\u001b[0m \u001b[1;32min\u001b[0m \u001b[0mrange\u001b[0m\u001b[1;33m(\u001b[0m\u001b[1;36m6\u001b[0m\u001b[1;33m)\u001b[0m\u001b[1;33m:\u001b[0m\u001b[1;33m\u001b[0m\u001b[1;33m\u001b[0m\u001b[0m\n",
      "\u001b[1;32m~\\AppData\\Local\\Temp/ipykernel_41020/4129894412.py\u001b[0m in \u001b[0;36mderivatives\u001b[1;34m(xs_0)\u001b[0m\n\u001b[0;32m     69\u001b[0m \u001b[1;33m\u001b[0m\u001b[0m\n\u001b[0;32m     70\u001b[0m      \u001b[0mperturbation\u001b[0m \u001b[1;33m=\u001b[0m \u001b[0mnp\u001b[0m\u001b[1;33m.\u001b[0m\u001b[0mfull\u001b[0m\u001b[1;33m(\u001b[0m\u001b[1;33m(\u001b[0m\u001b[1;36m6\u001b[0m\u001b[1;33m)\u001b[0m\u001b[1;33m,\u001b[0m \u001b[0mepsilon\u001b[0m\u001b[1;33m)\u001b[0m\u001b[1;33m\u001b[0m\u001b[1;33m\u001b[0m\u001b[0m\n\u001b[1;32m---> 71\u001b[1;33m      \u001b[0mcv_1\u001b[0m\u001b[1;33m,\u001b[0m \u001b[0mr_t1\u001b[0m\u001b[1;33m=\u001b[0m \u001b[0mcvar\u001b[0m\u001b[1;33m(\u001b[0m\u001b[0mxs_0\u001b[0m\u001b[1;33m+\u001b[0m\u001b[0mperturbation\u001b[0m\u001b[1;33m)\u001b[0m\u001b[1;33m\u001b[0m\u001b[1;33m\u001b[0m\u001b[0m\n\u001b[0m\u001b[0;32m     72\u001b[0m      \u001b[0mcomb1\u001b[0m \u001b[1;33m=\u001b[0m \u001b[1;33m-\u001b[0m\u001b[0mr_t1\u001b[0m\u001b[1;33m\u001b[0m\u001b[1;33m\u001b[0m\u001b[0m\n\u001b[0;32m     73\u001b[0m      \u001b[0mcv_2\u001b[0m\u001b[1;33m,\u001b[0m \u001b[0mr_t2\u001b[0m \u001b[1;33m=\u001b[0m  \u001b[0mcvar\u001b[0m\u001b[1;33m(\u001b[0m\u001b[0mxs_0\u001b[0m\u001b[1;33m-\u001b[0m\u001b[0mperturbation\u001b[0m\u001b[1;33m)\u001b[0m\u001b[1;33m\u001b[0m\u001b[1;33m\u001b[0m\u001b[0m\n",
      "\u001b[1;32m~\\AppData\\Local\\Temp/ipykernel_41020/4129894412.py\u001b[0m in \u001b[0;36mcvar\u001b[1;34m(xs_0)\u001b[0m\n\u001b[0;32m     38\u001b[0m \u001b[1;33m\u001b[0m\u001b[0m\n\u001b[0;32m     39\u001b[0m     \u001b[0mend_pools\u001b[0m\u001b[1;33m,\u001b[0m \u001b[0mRx_t\u001b[0m\u001b[1;33m,\u001b[0m \u001b[0mRy_t\u001b[0m\u001b[1;33m,\u001b[0m \u001b[0mv_t\u001b[0m\u001b[1;33m,\u001b[0m \u001b[0mevent_type_t\u001b[0m\u001b[1;33m,\u001b[0m \u001b[0mevent_direction_t\u001b[0m \u001b[1;33m=\u001b[0m\u001b[0;31m\\\u001b[0m\u001b[1;33m\u001b[0m\u001b[1;33m\u001b[0m\u001b[0m\n\u001b[1;32m---> 40\u001b[1;33m             \u001b[0mpools\u001b[0m\u001b[1;33m.\u001b[0m\u001b[0msimulate\u001b[0m\u001b[1;33m(\u001b[0m \u001b[0mkappa\u001b[0m \u001b[1;33m=\u001b[0m \u001b[0mkappa\u001b[0m\u001b[1;33m,\u001b[0m \u001b[0mp\u001b[0m \u001b[1;33m=\u001b[0m \u001b[0mp\u001b[0m\u001b[1;33m,\u001b[0m \u001b[0msigma\u001b[0m \u001b[1;33m=\u001b[0m \u001b[0msigma\u001b[0m\u001b[1;33m,\u001b[0m \u001b[0mT\u001b[0m \u001b[1;33m=\u001b[0m \u001b[0mT\u001b[0m\u001b[1;33m,\u001b[0m \u001b[0mbatch_size\u001b[0m \u001b[1;33m=\u001b[0m \u001b[0mbatch_size\u001b[0m\u001b[1;33m)\u001b[0m\u001b[1;33m\u001b[0m\u001b[1;33m\u001b[0m\u001b[0m\n\u001b[0m\u001b[0;32m     41\u001b[0m \u001b[1;33m\u001b[0m\u001b[0m\n\u001b[0;32m     42\u001b[0m     \u001b[0mprint\u001b[0m\u001b[1;33m(\u001b[0m\u001b[1;34m'Reserves in asset X for scenario 0:'\u001b[0m\u001b[1;33m,\u001b[0m \u001b[0mend_pools\u001b[0m\u001b[1;33m[\u001b[0m\u001b[1;36m0\u001b[0m\u001b[1;33m]\u001b[0m\u001b[1;33m.\u001b[0m\u001b[0mRx\u001b[0m\u001b[1;33m)\u001b[0m\u001b[1;33m\u001b[0m\u001b[1;33m\u001b[0m\u001b[0m\n",
      "\u001b[1;32m~\\SIAG FME Code Quest 2023\\code\\amm.py\u001b[0m in \u001b[0;36msimulate\u001b[1;34m(self, kappa, p, sigma, T, batch_size)\u001b[0m\n\u001b[0;32m    655\u001b[0m \u001b[1;33m\u001b[0m\u001b[0m\n\u001b[0;32m    656\u001b[0m                 \u001b[1;31m# generate the type of event associated with each event\u001b[0m\u001b[1;33m\u001b[0m\u001b[1;33m\u001b[0m\u001b[0m\n\u001b[1;32m--> 657\u001b[1;33m                 \u001b[0mevent_type\u001b[0m\u001b[1;33m[\u001b[0m\u001b[0mj\u001b[0m\u001b[1;33m]\u001b[0m \u001b[1;33m=\u001b[0m \u001b[0mnp\u001b[0m\u001b[1;33m.\u001b[0m\u001b[0mrandom\u001b[0m\u001b[1;33m.\u001b[0m\u001b[0mchoice\u001b[0m\u001b[1;33m(\u001b[0m\u001b[0mlen\u001b[0m\u001b[1;33m(\u001b[0m\u001b[0mkappa\u001b[0m\u001b[1;33m)\u001b[0m\u001b[1;33m,\u001b[0m \u001b[0mp\u001b[0m\u001b[1;33m=\u001b[0m\u001b[0mpi\u001b[0m\u001b[1;33m)\u001b[0m\u001b[1;33m\u001b[0m\u001b[1;33m\u001b[0m\u001b[0m\n\u001b[0m\u001b[0;32m    658\u001b[0m \u001b[1;33m\u001b[0m\u001b[0m\n\u001b[0;32m    659\u001b[0m                 \u001b[1;31m# the direction of the swap 0 = x-> y, 1 = y -> x\u001b[0m\u001b[1;33m\u001b[0m\u001b[1;33m\u001b[0m\u001b[0m\n",
      "\u001b[1;31mKeyboardInterrupt\u001b[0m: "
     ]
    }
   ],
   "source": [
    "import random\n",
    "from amm import amm\n",
    "import numpy as np\n",
    "\n",
    "import matplotlib.pyplot as plt\n",
    "#plt.style.use('paper.mplstyle')\n",
    "\n",
    "import seaborn as sns\n",
    "sns.set_theme(style=\"ticks\")\n",
    "\n",
    "import statsmodels.api as sm\n",
    "import matplotlib.ticker as mtick\n",
    "from params import params\n",
    "\n",
    "\n",
    "def cvar(xs_0):\n",
    "    \"\"\" Fix the seed \"\"\"\n",
    "    np.random.seed(params['seed'])\n",
    "    \n",
    "    \"\"\" Initialise the pools \"\"\"\n",
    "    Rx0   = params['Rx0']\n",
    "    Ry0   = params['Ry0']\n",
    "    phi   = params['phi']\n",
    "    \n",
    "    \n",
    "    \n",
    "    pools = amm(Rx=Rx0, Ry=Ry0, phi=phi)\n",
    "\n",
    "    \"\"\" Swap and mint \"\"\"\n",
    "    l    = pools.swap_and_mint(xs_0)\n",
    "\n",
    "    \"\"\" Simulate 1000 paths of trading in the pools \"\"\"\n",
    "    batch_size = params['batch_size']\n",
    "    T          = params['T']\n",
    "    kappa      = params['kappa']\n",
    "    p          = params['p']\n",
    "    sigma      = params['sigma']\n",
    "\n",
    "    end_pools, Rx_t, Ry_t, v_t, event_type_t, event_direction_t =\\\n",
    "            pools.simulate( kappa = kappa, p = p, sigma = sigma, T = T, batch_size = batch_size)\n",
    "\n",
    "    print('Reserves in asset X for scenario 0:', end_pools[0].Rx)\n",
    "    print('Reserves in asset Y for scenario 0:', end_pools[0].Ry)\n",
    "    x_T = np.zeros(batch_size)\n",
    "    for k in range(batch_size):\n",
    "        x_T[k] = np.sum(end_pools[k].burn_and_swap(l))\n",
    "\n",
    "    ## CVAR:\n",
    "    x_0      = np.sum(xs_0)\n",
    "    log_ret  = np.log(x_T) - np.log(x_0)\n",
    "    r_t = np.mean(log_ret)/T*100\n",
    "    print('Average performance     :', r_t)\n",
    "    print('Std. Dev. of performance:', np.std(log_ret)/np.sqrt(T)*100)\n",
    "\n",
    "\n",
    "    # compute cvar\n",
    "    alpha = params['alpha'] \n",
    "    qtl   = -np.quantile(log_ret, 1-alpha)\n",
    "    cvar  = np.mean(-log_ret[-log_ret>=qtl])\n",
    "    print(cvar)\n",
    "    return cvar, r_t\n",
    "\n",
    "\n",
    "\n",
    "\n",
    "def derivatives(xs_0):\n",
    "     #perturbance\n",
    "     epsilon = 1e-3\n",
    "     \n",
    "     perturbation = np.full((6), epsilon)\n",
    "     cv_1, r_t1= cvar(xs_0+perturbation)\n",
    "     comb1 = -r_t1\n",
    "     cv_2, r_t2 =  cvar(xs_0-perturbation)\n",
    "     comb2 = -r_t2\n",
    "     gradients_i = (comb1-comb2)/(2*epsilon)\n",
    "     gradients= np.full((6), gradients_i)\n",
    "     return gradients\n",
    "\n",
    "def gradient_descent(xs_0):\n",
    "    learning_rate = 100\n",
    "\n",
    "    for i in range(100):\n",
    "        \n",
    "        print(xs_0)\n",
    "        gradients = derivatives(xs_0)\n",
    "        xs_0 = xs_0-learning_rate*gradients\n",
    "        for j in range(6):\n",
    "            if xs_0[j] <0:\n",
    "                xs_0[j] = 1e-5\n",
    "        scale = np.sum(xs_0)\n",
    "        xs_0 = xs_0*(10/scale)\n",
    "    return xs_0\n",
    "\n",
    "\n",
    "xs_0= np.zeros(6)\n",
    "for i in range(6):\n",
    "    xs_0[i]=random.random()\n",
    "\n",
    "scale = np.sum(xs_0)\n",
    "\n",
    "# xs_0 = xs_0 * (10/scale)\n",
    "xs_0 = [10,0,0,0,0,0]\n",
    "\n",
    "best_x = gradient_descent(xs_0)\n",
    "\n",
    "print(best_x, cvar(best_x))"
   ]
  },
  {
   "cell_type": "code",
   "execution_count": null,
   "id": "da635797",
   "metadata": {},
   "outputs": [],
   "source": [
    "%run main.py"
   ]
  }
 ],
 "metadata": {
  "colab": {
   "provenance": []
  },
  "kernelspec": {
   "display_name": "Python 3 (ipykernel)",
   "language": "python",
   "name": "python3"
  },
  "language_info": {
   "codemirror_mode": {
    "name": "ipython",
    "version": 3
   },
   "file_extension": ".py",
   "mimetype": "text/x-python",
   "name": "python",
   "nbconvert_exporter": "python",
   "pygments_lexer": "ipython3",
   "version": "3.9.7"
  }
 },
 "nbformat": 4,
 "nbformat_minor": 5
}
