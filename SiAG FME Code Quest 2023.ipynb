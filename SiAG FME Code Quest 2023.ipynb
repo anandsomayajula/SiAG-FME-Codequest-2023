{
 "cells": [
  {
   "cell_type": "code",
   "execution_count": 1,
   "metadata": {
    "colab": {
     "base_uri": "https://localhost:8080/"
    },
    "executionInfo": {
     "elapsed": 20388,
     "status": "ok",
     "timestamp": 1704869138964,
     "user": {
      "displayName": "anand somayajula",
      "userId": "06849824266720048894"
     },
     "user_tz": 480
    },
    "id": "pRoUsRiVYSRm",
    "outputId": "717eba4c-a6c8-4570-9b86-e2cf85bdbc18",
    "scrolled": false
   },
   "outputs": [
    {
     "name": "stderr",
     "output_type": "stream",
     "text": [
      "C:\\Users\\anand\\anaconda3\\lib\\site-packages\\scipy\\__init__.py:146: UserWarning: A NumPy version >=1.16.5 and <1.23.0 is required for this version of SciPy (detected version 1.23.5\n",
      "  warnings.warn(f\"A NumPy version >={np_minversion} and <{np_maxversion}\"\n",
      "100%|██████████████████████████████████████████████████████████████████████████████| 1000/1000 [00:15<00:00, 64.11it/s]\n",
      "100%|██████████████████████████████████████████████████████████████████████████████| 1000/1000 [00:19<00:00, 52.24it/s]\n",
      "100%|██████████████████████████████████████████████████████████████████████████████| 1000/1000 [00:19<00:00, 52.40it/s]\n",
      "100%|██████████████████████████████████████████████████████████████████████████████| 1000/1000 [00:19<00:00, 52.61it/s]\n",
      "100%|██████████████████████████████████████████████████████████████████████████████| 1000/1000 [00:18<00:00, 53.84it/s]\n",
      "100%|██████████████████████████████████████████████████████████████████████████████| 1000/1000 [00:19<00:00, 52.29it/s]\n",
      "100%|██████████████████████████████████████████████████████████████████████████████| 1000/1000 [00:18<00:00, 54.49it/s]\n",
      "100%|██████████████████████████████████████████████████████████████████████████████| 1000/1000 [00:18<00:00, 52.95it/s]\n",
      "100%|██████████████████████████████████████████████████████████████████████████████| 1000/1000 [00:19<00:00, 51.36it/s]\n",
      "100%|██████████████████████████████████████████████████████████████████████████████| 1000/1000 [00:19<00:00, 51.76it/s]\n",
      "100%|██████████████████████████████████████████████████████████████████████████████| 1000/1000 [00:18<00:00, 52.74it/s]\n",
      "100%|██████████████████████████████████████████████████████████████████████████████| 1000/1000 [00:18<00:00, 54.08it/s]\n",
      "100%|██████████████████████████████████████████████████████████████████████████████| 1000/1000 [00:18<00:00, 53.72it/s]\n",
      "100%|██████████████████████████████████████████████████████████████████████████████| 1000/1000 [00:19<00:00, 52.03it/s]\n",
      "100%|██████████████████████████████████████████████████████████████████████████████| 1000/1000 [00:19<00:00, 52.35it/s]\n",
      "100%|██████████████████████████████████████████████████████████████████████████████| 1000/1000 [00:18<00:00, 52.68it/s]\n",
      "100%|██████████████████████████████████████████████████████████████████████████████| 1000/1000 [00:19<00:00, 51.51it/s]\n",
      "100%|██████████████████████████████████████████████████████████████████████████████| 1000/1000 [00:19<00:00, 52.26it/s]\n",
      "100%|██████████████████████████████████████████████████████████████████████████████| 1000/1000 [00:19<00:00, 52.52it/s]\n",
      "100%|██████████████████████████████████████████████████████████████████████████████| 1000/1000 [00:19<00:00, 52.42it/s]\n",
      "100%|██████████████████████████████████████████████████████████████████████████████| 1000/1000 [00:19<00:00, 52.14it/s]\n",
      "100%|██████████████████████████████████████████████████████████████████████████████| 1000/1000 [00:18<00:00, 53.73it/s]\n",
      "100%|██████████████████████████████████████████████████████████████████████████████| 1000/1000 [00:19<00:00, 52.55it/s]\n",
      "100%|██████████████████████████████████████████████████████████████████████████████| 1000/1000 [00:19<00:00, 52.52it/s]\n",
      "100%|██████████████████████████████████████████████████████████████████████████████| 1000/1000 [00:19<00:00, 52.32it/s]\n",
      "100%|██████████████████████████████████████████████████████████████████████████████| 1000/1000 [00:19<00:00, 51.81it/s]\n"
     ]
    },
    {
     "name": "stdout",
     "output_type": "stream",
     "text": [
      "[0.26812384 3.63359566 1.89762382 0.01826357 3.56593037 0.61646274]\n"
     ]
    },
    {
     "name": "stderr",
     "output_type": "stream",
     "text": [
      "100%|██████████████████████████████████████████████████████████████████████████████| 1000/1000 [00:19<00:00, 52.48it/s]"
     ]
    },
    {
     "name": "stdout",
     "output_type": "stream",
     "text": [
      "(0.005098792511356218, 0.2666342954386418)\n"
     ]
    },
    {
     "name": "stderr",
     "output_type": "stream",
     "text": [
      "\n"
     ]
    }
   ],
   "source": [
    "import random\n",
    "from amm import amm\n",
    "import numpy as np\n",
    "\n",
    "import matplotlib.pyplot as plt\n",
    "#plt.style.use('paper.mplstyle')\n",
    "\n",
    "import seaborn as sns\n",
    "sns.set_theme(style=\"ticks\")\n",
    "\n",
    "import statsmodels.api as sm\n",
    "import matplotlib.ticker as mtick\n",
    "from params import params\n",
    "\n",
    "\n",
    "\n",
    "def objective(xs_0):\n",
    "    \"\"\" Fix the seed \"\"\"\n",
    "    np.random.seed(params['seed'])\n",
    "    \n",
    "    \"\"\" Initialise the pools \"\"\"\n",
    "    Rx0   = params['Rx0']\n",
    "    Ry0   = params['Ry0']\n",
    "    phi   = params['phi']\n",
    "    \n",
    "    \n",
    "    \n",
    "    pools = amm(Rx=Rx0, Ry=Ry0, phi=phi)\n",
    "\n",
    "    \"\"\" Swap and mint \"\"\"\n",
    "    l    = pools.swap_and_mint(xs_0)\n",
    "    \"\"\" Simulate 1000 paths of trading in the pools \"\"\"\n",
    "    batch_size = params['batch_size']\n",
    "    T          = params['T']\n",
    "    kappa      = params['kappa']\n",
    "    p          = params['p']\n",
    "    sigma      = params['sigma']\n",
    "\n",
    "    end_pools, Rx_t, Ry_t, v_t, event_type_t, event_direction_t =\\\n",
    "            pools.simulate( kappa = kappa, p = p, sigma = sigma, T = T, batch_size = batch_size)\n",
    "\n",
    "    #print('Reserves in asset X for scenario 0:', end_pools[0].Rx)\n",
    "    #print('Reserves in asset Y for scenario 0:', end_pools[0].Ry)\n",
    "    x_T = np.zeros(batch_size)\n",
    "    for k in range(batch_size):\n",
    "        x_T[k] = np.sum(end_pools[k].burn_and_swap(l))\n",
    "\n",
    "    ## CVAR:\n",
    "    x_0      = np.sum(xs_0)\n",
    "    log_ret  = np.log(x_T) - np.log(x_0)\n",
    "    r_t = np.mean(log_ret)/T*100\n",
    "#     print('Average performance     :', r_t)\n",
    "#     print('Std. Dev. of performance:', np.std(log_ret)/np.sqrt(T)*100)\n",
    "\n",
    "\n",
    "    # compute cvar\n",
    "    alpha = params['alpha'] \n",
    "    qtl   = -np.quantile(log_ret, 1-alpha)\n",
    "    cvar  = np.mean(-log_ret[-log_ret>=qtl])\n",
    "#     print(cvar)\n",
    "    return cvar, r_t\n",
    "\n",
    "\n",
    "\n",
    "\n",
    "def derivatives(xs_0):\n",
    "     #perturbance\n",
    "     epsilon = 1e-3\n",
    "     gradients=[]\n",
    "     cv_1=0\n",
    "     r_t1=0\n",
    "     perturbations=np.zeros(params['N_pools'])\n",
    "     for i in range(params['N_pools']):\n",
    "         perturbations[i] = epsilon\n",
    "         cv_1, r_t1= objective(xs_0+perturbations)\n",
    "         comb1 = cv_1/r_t1\n",
    "         cv_2, r_t2 =  objective(xs_0-perturbations)\n",
    "         comb2 = cv_2/r_t2\n",
    "         gradients_i = (comb1-comb2)/(2*epsilon)\n",
    "         gradients.append(gradients_i)\n",
    "         perturbations[i]=0\n",
    "    # print(cv_1, r_t1)\n",
    "     return np.array(gradients)\n",
    "     \n",
    "def gradient_descent(xs_0):\n",
    "    learning_rate = 100\n",
    "    prev_cvar=0\n",
    "    prev_perf=1\n",
    "    tol = 0.005\n",
    "    noise = 1e-2\n",
    "    while True:\n",
    "     #   print(xs_0)\n",
    "        gradients = derivatives(xs_0)\n",
    "       \n",
    "        xs_0 = xs_0-learning_rate*gradients\n",
    "               \n",
    "        for j in range(params['N_pools']):\n",
    "            if xs_0[j] <noise:\n",
    "                xs_0[j] = noise\n",
    "        scale = np.sum(xs_0)\n",
    "        xs_0 = xs_0*(10/scale)\n",
    "        cvar, perf = objective(xs_0)\n",
    "        if abs(cvar/perf - prev_cvar/prev_perf)<tol:\n",
    "            return xs_0\n",
    "        else:\n",
    "            prev_cvar = cvar\n",
    "            prev_perf = perf\n",
    "    return xs_0\n",
    "\n",
    "\n",
    "xs_0= np.zeros(params['N_pools'])\n",
    "for i in range(params['N_pools']):\n",
    "    xs_0[i]=random.random()\n",
    "    \n",
    "scale = np.sum(xs_0)\n",
    "\n",
    "xs_0 = xs_0 * (10/scale)\n",
    "best_x = gradient_descent(xs_0)\n",
    "\n",
    "print(best_x)\n",
    "print(objective(best_x))"
   ]
  },
  {
   "cell_type": "code",
   "execution_count": 2,
   "metadata": {},
   "outputs": [
    {
     "name": "stdout",
     "output_type": "stream",
     "text": [
      "[0.02681238 0.36335957 0.18976238 0.00182636 0.35659304 0.06164627]\n"
     ]
    }
   ],
   "source": [
    "theta = best_x/10\n",
    "print(theta)"
   ]
  },
  {
   "cell_type": "code",
   "execution_count": null,
   "metadata": {},
   "outputs": [],
   "source": []
  }
 ],
 "metadata": {
  "colab": {
   "provenance": []
  },
  "kernelspec": {
   "display_name": "Python 3 (ipykernel)",
   "language": "python",
   "name": "python3"
  },
  "language_info": {
   "codemirror_mode": {
    "name": "ipython",
    "version": 3
   },
   "file_extension": ".py",
   "mimetype": "text/x-python",
   "name": "python",
   "nbconvert_exporter": "python",
   "pygments_lexer": "ipython3",
   "version": "3.9.7"
  }
 },
 "nbformat": 4,
 "nbformat_minor": 1
}
